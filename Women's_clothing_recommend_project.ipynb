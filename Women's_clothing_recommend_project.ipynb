{
  "nbformat": 4,
  "nbformat_minor": 0,
  "metadata": {
    "colab": {
      "provenance": [],
      "authorship_tag": "ABX9TyOTVWnoKLdLbPL1duLoefEP",
      "include_colab_link": true
    },
    "kernelspec": {
      "name": "python3",
      "display_name": "Python 3"
    },
    "language_info": {
      "name": "python"
    }
  },
  "cells": [
    {
      "cell_type": "markdown",
      "metadata": {
        "id": "view-in-github",
        "colab_type": "text"
      },
      "source": [
        "<a href=\"https://colab.research.google.com/github/Sentamilarase/Sentamil-/blob/main/Women's_clothing_recommend_project.ipynb\" target=\"_parent\"><img src=\"https://colab.research.google.com/assets/colab-badge.svg\" alt=\"Open In Colab\"/></a>"
      ]
    },
    {
      "cell_type": "code",
      "execution_count": null,
      "metadata": {
        "colab": {
          "base_uri": "https://localhost:8080/",
          "height": 108
        },
        "id": "m8ywBpf-DF8B",
        "outputId": "9b349bc3-068e-42fc-97be-6c39200942ed"
      },
      "outputs": [
        {
          "output_type": "error",
          "ename": "IndentationError",
          "evalue": "unindent does not match any outer indentation level (<tokenize>, line 100)",
          "traceback": [
            "\u001b[0;36m  File \u001b[0;32m\"<tokenize>\"\u001b[0;36m, line \u001b[0;32m100\u001b[0m\n\u001b[0;31m    from sklearn.feature_extraction.text import CountVectorizer\u001b[0m\n\u001b[0m    ^\u001b[0m\n\u001b[0;31mIndentationError\u001b[0m\u001b[0;31m:\u001b[0m unindent does not match any outer indentation level\n"
          ]
        }
      ],
      "source": [
        "Import library\n",
        "\n",
        "\n",
        "import pandas as pd\n",
        "import numpy as np\n",
        "import matplotlib.pyplot as plt\n",
        "import seaborn as sns\n",
        "\n",
        "Import Dataset\n",
        "\n",
        "df=pd.read_csv('https://github.com/NadimKawwa/WomeneCommerce/raw/master/Womens%20Clothing%20E-Commerce%20Reviews.csv')\n",
        "\n",
        "\n",
        " df.head()\n",
        "\n",
        " <class 'pandas.core.frame.DataFrame'>\n",
        " RangeIndex: 23486 entries, 0 to 23485\n",
        " Data columns (total 11 columns):\n",
        "  #   Column                   Non-Null Count  Dtype\n",
        "  ---  ------                   --------------  -----\n",
        "   0   Unnamed: 0               23486 non-null  int64\n",
        "   1   Clothing ID              23486 non-null  int64\n",
        "   2   Age                      23486 non-null  int64\n",
        "   3   Title                    19676 non-null  object\n",
        "   4   Review Text              22641 non-null  object\n",
        "   5   Rating                   23486 non-null  int64\n",
        "   6   Recommended IND          23486 non-null  int64\n",
        "   7   Positive Feedback Count  23486 non-null  int64\n",
        "\n",
        "\n",
        "   8   Division Name            23472 non-null  object\n",
        "   9   Department Name          23472 non-null  object\n",
        "   10  Class Name               23472 non-null  object\n",
        "   dtypes: int64(6), object(5)\n",
        "   memory usage: 2.0+ MB\n",
        "\n",
        "   df.shape\n",
        "\n",
        "     (23486, 11)\n",
        "Missing values\n",
        "Removing missing values in Reviews columns with Review text\n",
        "\n",
        "\n",
        "df.isna().sum()\n",
        "\n",
        "     Unnamed: 0                    0\n",
        "     Clothing ID                   0\n",
        "     Age                           0\n",
        "     Title                      3810\n",
        "     Review Text                 845\n",
        "     Rating                        0\n",
        "     Recommended IND               0\n",
        "     Positive Feedback Count       0\n",
        "     Division Name                14\n",
        "     Department Name              14\n",
        "     Class Name                   14\n",
        "     dtype: int64\n",
        "\n",
        "     df[df['Review Text']==\"\"]=np.NaN\n",
        "\n",
        "\n",
        "          df['Review Text'].fillna(\"No Review\",inplace=True)\n",
        "     Define Target (y) and Feature (X)\n",
        "\n",
        "     df.columns\n",
        "\n",
        "          Index(['Unnamed: 0', 'Clothing ID', 'Age', 'Title', 'Review Text', 'Rating',\n",
        "                 'Recommended IND', 'Positive Feedback Count', 'Division Name',\n",
        "                        'Department Name', 'Class Name'],\n",
        "                              dtype='object')\n",
        "\n",
        "                              x=df['Review Text']\n",
        "\n",
        "\n",
        "                                   y=df['Rating']\n",
        "\n",
        "\n",
        "                                        df['Rating'].value_counts()\n",
        "\n",
        "                                             5.0    13131\n",
        "                                             4.0     5077\n",
        "                                             3.0     2871\n",
        "                                             2.0     1565\n",
        "                                             1.0      842\n",
        "                                             Name: Rating, dtype: int64\n",
        "\n",
        "                                             Train Test Split\n",
        "\n",
        "                                             from sklearn.model_selection import train_test_split\n",
        "\n",
        "\n",
        "                                                  X_train, X_test, y_train, y_test = train_test_split(x,y,train_size=0.7, stratify=y, random_state=2529)\n",
        "\n",
        "\n",
        "                                                     X_train.shape, X_test.shape, y_train.shape, y_test.shape\n",
        "\n",
        "                                                        ((16440,), (7046,), (16440,), (7046,))\n",
        "                                                        Get Future text Conversion to Tokens\n",
        "\n",
        "                                                       from sklearn.feature_extraction.text import CountVectorizer\n",
        "\n",
        "\n",
        "                                                                 cv=CountVectorizer(lowercase =True, analyzer = 'word', ngram_range=(2,3),stop_words=\"english\", max_features=5000)\n",
        "\n",
        "\n",
        "                                                                      X_train=cv.fit_transform(X_train)\n",
        "\n",
        "\n",
        "                                                                           cv.get_feature_names_out()\n",
        "\n",
        "                                                                                array(['10 12', '10 bought', '10 fit', ..., 'yellow color', 'yoga pants',\n",
        "                                                                                       'zipper little'], dtype=object)\n"
      ]
    }
  ]
}